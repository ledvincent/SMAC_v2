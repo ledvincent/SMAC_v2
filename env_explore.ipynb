{
 "cells": [
  {
   "cell_type": "code",
   "execution_count": 2,
   "id": "4a0a2a51",
   "metadata": {},
   "outputs": [
    {
     "name": "stderr",
     "output_type": "stream",
     "text": [
      "Version: B75689 (SC2.4.10)\n",
      "Build: Aug 12 2019 17:16:57\n",
      "Command Line: '\"/home/vincent/smac/SMAC_v2/3rdparty/StarCraftII/Versions/Base75689/SC2_x64\" -listen 127.0.0.1 -port 40239 -dataDir /home/vincent/smac/SMAC_v2/3rdparty/StarCraftII/ -tempDir /tmp/sc-ugonkzu4/'\n",
      "Starting up...\n",
      "Startup Phase 1 complete\n",
      "Startup Phase 2 complete\n",
      "Creating stub renderer...\n",
      "Listening on: 127.0.0.1:40239\n",
      "Startup Phase 3 complete. Ready for commands.\n",
      "ConnectHandler: Request from 127.0.0.1:48238 accepted\n",
      "ReadyHandler: 127.0.0.1:48238 ready\n",
      "Requesting to join a single player game\n",
      "Configuring interface options\n",
      "Configure: raw interface enabled\n",
      "Configure: feature layer interface disabled\n",
      "Configure: score interface disabled\n",
      "Configure: render interface disabled\n",
      "Launching next game.\n",
      "Next launch phase started: 2\n",
      "Next launch phase started: 3\n",
      "Next launch phase started: 4\n",
      "Next launch phase started: 5\n",
      "Next launch phase started: 6\n",
      "Next launch phase started: 7\n",
      "Next launch phase started: 8\n",
      "Game has started.\n",
      "Using default stable ids, none found at: /home/vincent/smac/SMAC_v2/3rdparty/StarCraftII/stableid.json\n",
      "Successfully loaded stable ids: GameData\\stableid.json\n",
      "Sending ResponseJoinGame\n"
     ]
    },
    {
     "data": {
      "text/plain": [
       "([array([ 1.        ,  1.        ,  1.        ,  1.        ,  0.        ,\n",
       "          0.84494126, -0.54191893, -0.6482666 ,  1.        ,  0.        ,\n",
       "          1.        ,  0.        ,  0.        ,  0.        ,  0.        ,\n",
       "          0.        ,  0.        ,  0.        ,  0.        ,  0.        ,\n",
       "          0.        ,  0.        ,  0.        ,  0.        ,  0.        ,\n",
       "          0.        ,  0.        ,  0.        ,  0.        ,  0.        ,\n",
       "          0.        ,  0.        ,  0.        ,  0.        ,  0.        ,\n",
       "          0.        ,  0.        ,  0.8572024 , -0.48000488, -0.7102051 ,\n",
       "          1.        ,  1.        ,  0.        ,  0.        ,  1.        ,\n",
       "          0.10634766,  0.10634766,  0.        ,  1.        ,  0.        ,\n",
       "          1.        ,  0.        ,  1.        ,  0.1548098 ,  0.10634766,\n",
       "         -0.1125    ,  1.        ,  1.        ,  0.        ,  0.        ,\n",
       "          1.        ,  0.1792997 ,  0.16826172, -0.06193848,  1.        ,\n",
       "          1.        ,  0.        ,  0.        ,  1.        ,  0.17929126,\n",
       "          0.16826172,  0.06191406,  1.        ,  1.        ,  0.        ,\n",
       "          0.        ,  1.        ,  0.46676636,  0.5       , 10.        ,\n",
       "          6.        ,  0.        , 25.        ,  0.        ,  1.        ,\n",
       "          0.        ], dtype=float32),\n",
       "  array([ 1.        ,  1.        ,  1.        ,  1.        ,  0.        ,\n",
       "          0.91678745, -0.6482666 , -0.6482666 ,  1.        ,  0.        ,\n",
       "          1.        ,  0.        ,  0.        ,  0.        ,  0.        ,\n",
       "          0.        ,  0.        ,  0.        ,  0.        ,  0.        ,\n",
       "          0.        ,  0.        ,  0.        ,  0.        ,  0.        ,\n",
       "          0.        ,  0.        ,  0.        ,  0.        ,  0.        ,\n",
       "          0.        ,  0.        ,  0.        ,  0.        ,  0.        ,\n",
       "          0.        ,  0.        ,  0.92097807, -0.5863525 , -0.7102051 ,\n",
       "          1.        ,  1.        ,  0.        ,  0.        ,  1.        ,\n",
       "          0.10634766, -0.10634766,  0.        ,  1.        ,  0.        ,\n",
       "          1.        ,  0.        ,  1.        ,  0.1125    ,  0.        ,\n",
       "         -0.1125    ,  1.        ,  1.        ,  0.        ,  0.        ,\n",
       "          1.        ,  0.08757697,  0.06191406, -0.06193848,  1.        ,\n",
       "          1.        ,  0.        ,  0.        ,  1.        ,  0.08755971,\n",
       "          0.06191406,  0.06191406,  1.        ,  1.        ,  0.        ,\n",
       "          0.        ,  1.        ,  0.5       ,  0.5       , 10.        ,\n",
       "          6.        ,  0.        , 25.        ,  0.        ,  1.        ,\n",
       "          0.        ], dtype=float32),\n",
       "  array([ 1.        ,  1.        ,  1.        ,  1.        ,  0.        ,\n",
       "          0.93445396, -0.7202962 , -0.5952962 ,  1.        ,  0.        ,\n",
       "          1.        ,  0.        ,  0.        ,  0.        ,  0.        ,\n",
       "          0.        ,  0.        ,  0.        ,  0.        ,  0.        ,\n",
       "          0.        ,  0.        ,  0.        ,  0.        ,  0.        ,\n",
       "          0.        ,  0.        ,  0.        ,  0.        ,  0.        ,\n",
       "          0.        ,  0.        ,  0.        ,  0.        ,  0.        ,\n",
       "          0.        ,  0.        ,  0.9303263 , -0.65150285, -0.66411674,\n",
       "          1.        ,  1.        ,  0.        ,  0.        ,  1.        ,\n",
       "          0.17201088, -0.11816406,  0.125     ,  1.        ,  0.        ,\n",
       "          1.        ,  0.        ,  1.        ,  0.125     ,  0.        ,\n",
       "          0.125     ,  1.        ,  0.        ,  1.        ,  0.        ,\n",
       "          1.        ,  0.08881816,  0.0687934 ,  0.05617947,  1.        ,\n",
       "          1.        ,  0.        ,  0.        ,  1.        ,  0.20564148,\n",
       "          0.0687934 ,  0.1937934 ,  1.        ,  1.        ,  0.        ,\n",
       "          0.        ,  1.        ,  0.5       ,  0.46484375,  9.        ,\n",
       "          5.        ,  0.        , 15.        ,  1.        ,  0.        ,\n",
       "          0.        ], dtype=float32),\n",
       "  array([ 1.        ,  1.        ,  1.        ,  1.        ,  0.        ,\n",
       "          0.        ,  0.        ,  0.        ,  0.        ,  0.        ,\n",
       "          0.        ,  0.        ,  0.        ,  0.        ,  0.        ,\n",
       "          0.        ,  0.        ,  0.        ,  0.        ,  0.        ,\n",
       "          0.        ,  0.        ,  0.        ,  0.        ,  0.        ,\n",
       "          0.        ,  0.        ,  0.        ,  0.        ,  0.        ,\n",
       "          0.        ,  0.        ,  0.        ,  0.        ,  0.        ,\n",
       "          0.        ,  0.        ,  0.        ,  0.        ,  0.        ,\n",
       "          0.        ,  0.        ,  0.        ,  0.        ,  1.        ,\n",
       "          0.19922188, -0.18695746,  0.06882053,  1.        ,  0.        ,\n",
       "          1.        ,  0.        ,  1.        ,  0.09730775, -0.0687934 ,\n",
       "          0.06882053,  1.        ,  0.        ,  1.        ,  0.        ,\n",
       "          1.        ,  0.08881816, -0.0687934 , -0.05617947,  1.        ,\n",
       "          1.        ,  0.        ,  0.        ,  1.        ,  0.13761394,\n",
       "          0.        ,  0.13761394,  1.        ,  1.        ,  0.        ,\n",
       "          0.        ,  1.        ,  0.51934814,  0.48064423,  9.        ,\n",
       "          5.        ,  0.        , 15.        ,  1.        ,  0.        ,\n",
       "          0.        ], dtype=float32),\n",
       "  array([ 1.        ,  1.        ,  1.        ,  1.        ,  0.        ,\n",
       "          0.        ,  0.        ,  0.        ,  0.        ,  0.        ,\n",
       "          0.        ,  0.        ,  0.        ,  0.        ,  0.        ,\n",
       "          0.        ,  0.        ,  0.        ,  0.        ,  0.        ,\n",
       "          0.        ,  0.        ,  0.        ,  0.        ,  0.        ,\n",
       "          0.        ,  0.        ,  0.        ,  0.        ,  0.        ,\n",
       "          0.        ,  0.        ,  0.        ,  0.        ,  0.        ,\n",
       "          0.        ,  0.        ,  0.        ,  0.        ,  0.        ,\n",
       "          0.        ,  0.        ,  0.        ,  0.        ,  1.        ,\n",
       "          0.19921252, -0.18695746, -0.0687934 ,  1.        ,  0.        ,\n",
       "          1.        ,  0.        ,  1.        ,  0.09728856, -0.0687934 ,\n",
       "         -0.0687934 ,  1.        ,  0.        ,  1.        ,  0.        ,\n",
       "          1.        ,  0.20564148, -0.0687934 , -0.1937934 ,  1.        ,\n",
       "          1.        ,  0.        ,  0.        ,  1.        ,  0.13761394,\n",
       "          0.        , -0.13761394,  1.        ,  1.        ,  0.        ,\n",
       "          0.        ,  1.        ,  0.51934814,  0.51934814,  9.        ,\n",
       "          5.        ,  0.        , 15.        ,  1.        ,  0.        ,\n",
       "          0.        ], dtype=float32)],\n",
       " array([ 1.        ,  0.        , -0.03798131,  0.        ,  0.        ,\n",
       "         1.        ,  0.        ,  1.        ,  0.        ,  0.        ,\n",
       "         0.        ,  0.        ,  1.        ,  0.        ,  1.        ,\n",
       "         0.        ,  0.        , -0.04017857,  1.        ,  0.        ,\n",
       "         0.        ,  1.        ,  0.        ,  0.02211216, -0.02212088,\n",
       "         1.        ,  0.        ,  0.        ,  1.        ,  0.        ,\n",
       "         0.02211216,  0.02211216,  1.        ,  0.        ,  0.        ,\n",
       "         1.        , -0.23152378, -0.23152378,  0.        ,  1.        ,\n",
       "         0.        ,  1.        ,  0.46873257,  0.46873257,  1.        ,\n",
       "         0.        ,  0.        ,  1.        , -0.48447964,  0.45318604,\n",
       "         0.        ,  1.        ,  0.        ,  1.        , -0.48447964,\n",
       "         0.4844709 ,  1.        ,  0.        ,  0.        ,  1.        ,\n",
       "        -0.20941162, -0.25364468,  1.        ,  0.        ,  0.        ,\n",
       "         0.        ,  0.        ,  0.        ,  0.        ,  0.        ,\n",
       "         0.        ,  0.        ,  0.        ,  0.        ,  0.        ,\n",
       "         0.        ,  0.        ,  0.        ,  0.        ,  0.        ,\n",
       "         0.        ,  0.        ,  0.        ,  0.        ,  0.        ,\n",
       "         0.        ,  0.        ,  0.        ,  0.        ,  0.        ,\n",
       "         0.        ,  0.        ,  0.        ,  0.        ,  0.        ,\n",
       "         0.        ,  0.        ,  0.        ,  0.        ,  0.        ,\n",
       "         0.        ,  0.        ,  0.        ,  0.        ,  0.        ,\n",
       "         0.        ,  0.        ,  0.        ,  0.        ,  0.        ,\n",
       "         0.        ,  0.        ,  0.        ,  0.        ,  0.        ,\n",
       "         0.        ,  0.        ,  0.        ,  0.        ,  0.        ],\n",
       "       dtype=float32))"
      ]
     },
     "execution_count": 2,
     "metadata": {},
     "output_type": "execute_result"
    }
   ],
   "source": [
    "import os, sys, yaml, numpy as np\n",
    "os.environ[\"SC2PATH\"] = \"/home/vincent/smac/SMAC_v2/3rdparty/StarCraftII\"\n",
    "\n",
    "sys.path.append(\"/home/vincent/smac/SMAC_v2/src\")\n",
    "from envs import REGISTRY as env_REGISTRY\n",
    "\n",
    "with open(\"src/config/envs/sc2_v2_terran.yaml\") as f:\n",
    "    cfg = yaml.safe_load(f)\n",
    "\n",
    "\n",
    "EnvClass = env_REGISTRY[cfg[\"env\"]]      # should be \"sc2_v2\"\n",
    "env = EnvClass(**cfg[\"env_args\"])        # pass v2 args once\n",
    "\n",
    "env.reset()\n",
    "# info  = env.get_env_info()\n",
    "# obs   = env.get_obs()\n",
    "# state = env.get_state()\n",
    "# print(\"n_agents:\", info[\"n_agents\"], \"| obs len:\", len(obs), \"| state dim:\", len(state))\n",
    "\n",
    "# # tiny rollout to prove it runs\n",
    "# for t in range(3):\n",
    "#     avail = env.get_avail_actions()\n",
    "#     acts = [int(np.random.choice(np.nonzero(avail[i])[0])) for i in range(info[\"n_agents\"])]\n",
    "#     r, done, _ = env.step(acts)\n",
    "#     print(f\"t={t} r={r:.3f} done={done}\")\n",
    "#     if done:\n",
    "#         break\n",
    "\n",
    "# env.close()"
   ]
  },
  {
   "cell_type": "code",
   "execution_count": null,
   "id": "3f6c373a",
   "metadata": {},
   "outputs": [],
   "source": [
    "import torch\n",
    "print(torch.cuda.is_available())"
   ]
  },
  {
   "cell_type": "code",
   "execution_count": 1,
   "id": "e511b5d2",
   "metadata": {},
   "outputs": [
    {
     "data": {
      "text/plain": [
       "[1, 2, 3, 4, 0, 1, 2, 3]"
      ]
     },
     "execution_count": 1,
     "metadata": {},
     "output_type": "execute_result"
    }
   ],
   "source": [
    "a = [1,2,3,4]\n",
    "b = [0,1,2,3]\n",
    "a+b"
   ]
  },
  {
   "cell_type": "code",
   "execution_count": 2,
   "id": "6fed0d2c",
   "metadata": {},
   "outputs": [
    {
     "name": "stdout",
     "output_type": "stream",
     "text": [
      "{'state_shape': 98, 'obs_shape': 55, 'n_actions': 12, 'n_agents': 5, 'n_enemies': 6, 'episode_limit': 70, 'n_normal_actions': 6, 'n_allies': 4, 'state_ally_feats_size': 4, 'state_enemy_feats_size': 3, 'obs_component': [4, (6, 5), (4, 5), 1], 'state_component': [20, 18, 60], 'map_type': 'marines'}\n"
     ]
    },
    {
     "data": {
      "text/plain": [
       "{'state_shape': 98,\n",
       " 'obs_shape': 55,\n",
       " 'n_actions': 12,\n",
       " 'n_agents': 5,\n",
       " 'n_enemies': 6,\n",
       " 'episode_limit': 70,\n",
       " 'n_normal_actions': 6,\n",
       " 'n_allies': 4,\n",
       " 'state_ally_feats_size': 4,\n",
       " 'state_enemy_feats_size': 3,\n",
       " 'obs_component': [4, (6, 5), (4, 5), 1],\n",
       " 'state_component': [20, 18, 60],\n",
       " 'map_type': 'marines'}"
      ]
     },
     "execution_count": 2,
     "metadata": {},
     "output_type": "execute_result"
    }
   ],
   "source": [
    "env.get_env_info()"
   ]
  },
  {
   "cell_type": "code",
   "execution_count": 3,
   "id": "2a5d2877",
   "metadata": {},
   "outputs": [
    {
     "name": "stdout",
     "output_type": "stream",
     "text": [
      "[ 1.          0.         -0.27458844  0.          1.          0.\n",
      " -0.25       -0.02458845  1.          0.         -0.25        0.\n",
      "  1.          0.         -0.25        0.02458845  1.          0.\n",
      " -0.22541155  0.          1.          0.25       -0.02458845  1.\n",
      "  0.27458844  0.          1.          0.22541155  0.          1.\n",
      "  0.2767857  -0.02678571  1.          0.25        0.02458845  1.\n",
      "  0.25        0.          0.          0.          0.          0.\n",
      "  0.          0.          0.          0.          0.          0.\n",
      "  0.          0.          0.          0.          0.          0.\n",
      "  0.          0.          0.          0.          0.          0.\n",
      "  0.          0.          0.          0.          0.          0.\n",
      "  0.          0.          0.          0.          0.          0.\n",
      "  0.          0.          0.          0.          0.          0.\n",
      "  0.          0.          0.          0.          0.          0.\n",
      "  0.          0.          0.          0.          0.          0.\n",
      "  0.          0.          0.          0.          0.          0.\n",
      "  0.          0.        ]\n",
      "98\n",
      "[20, 18, 60]\n"
     ]
    }
   ],
   "source": [
    "# State\n",
    "print(env.get_state())\n",
    "print(len(env.get_state()))\n",
    "print(env.get_state_component())"
   ]
  },
  {
   "cell_type": "code",
   "execution_count": 5,
   "id": "f721c4ef",
   "metadata": {},
   "outputs": [
    {
     "data": {
      "text/plain": [
       "{'allies': array([[ 1.        ,  0.        , -0.27458845,  0.        ],\n",
       "        [ 1.        ,  0.        , -0.25      , -0.02458845],\n",
       "        [ 1.        ,  0.        , -0.25      ,  0.        ],\n",
       "        [ 1.        ,  0.        , -0.25      ,  0.02458845],\n",
       "        [ 1.        ,  0.        , -0.22541155,  0.        ]]),\n",
       " 'enemies': array([[ 1.        ,  0.27678571, -0.02678571],\n",
       "        [ 1.        ,  0.22541155,  0.        ],\n",
       "        [ 1.        ,  0.25      ,  0.02458845],\n",
       "        [ 1.        ,  0.27458845,  0.        ],\n",
       "        [ 1.        ,  0.25      , -0.02458845],\n",
       "        [ 1.        ,  0.25      ,  0.        ]]),\n",
       " 'last_action': array([[0., 0., 0., 0., 0., 0., 0., 0., 0., 0., 0., 0.],\n",
       "        [0., 0., 0., 0., 0., 0., 0., 0., 0., 0., 0., 0.],\n",
       "        [0., 0., 0., 0., 0., 0., 0., 0., 0., 0., 0., 0.],\n",
       "        [0., 0., 0., 0., 0., 0., 0., 0., 0., 0., 0., 0.],\n",
       "        [0., 0., 0., 0., 0., 0., 0., 0., 0., 0., 0., 0.]])}"
      ]
     },
     "execution_count": 5,
     "metadata": {},
     "output_type": "execute_result"
    }
   ],
   "source": [
    "env.get_state_dict()"
   ]
  },
  {
   "cell_type": "code",
   "execution_count": 4,
   "id": "2c95272a",
   "metadata": {},
   "outputs": [
    {
     "data": {
      "text/plain": [
       "[[0, 1, 1, 1, 1, 1, 0, 0, 0, 0, 0, 0],\n",
       " [0, 1, 1, 1, 1, 1, 0, 0, 0, 0, 0, 0],\n",
       " [0, 1, 1, 1, 1, 1, 0, 0, 0, 0, 0, 0],\n",
       " [0, 1, 1, 1, 1, 1, 0, 0, 0, 0, 0, 0],\n",
       " [0, 1, 1, 1, 1, 1, 0, 0, 0, 0, 0, 0]]"
      ]
     },
     "execution_count": 4,
     "metadata": {},
     "output_type": "execute_result"
    }
   ],
   "source": [
    "# Available actions\n",
    "env.get_avail_actions()"
   ]
  },
  {
   "cell_type": "code",
   "execution_count": 5,
   "id": "48e09f75",
   "metadata": {},
   "outputs": [
    {
     "name": "stdout",
     "output_type": "stream",
     "text": [
      "[array([ 1.        ,  1.        ,  1.        ,  1.        ,  0.        ,\n",
      "        0.        ,  0.        ,  0.        ,  0.        ,  0.        ,\n",
      "        0.        ,  0.        ,  0.        ,  0.        ,  0.        ,\n",
      "        0.        ,  0.        ,  0.        ,  0.        ,  0.        ,\n",
      "        0.        ,  0.        ,  0.        ,  0.        ,  0.        ,\n",
      "        0.        ,  0.        ,  0.        ,  0.        ,  0.        ,\n",
      "        0.        ,  0.        ,  0.        ,  0.        ,  1.        ,\n",
      "        0.10818365,  0.0764974 , -0.0764974 ,  1.        ,  1.        ,\n",
      "        0.0764974 ,  0.0764974 ,  0.        ,  1.        ,  1.        ,\n",
      "        0.10818365,  0.0764974 ,  0.0764974 ,  1.        ,  1.        ,\n",
      "        0.1529948 ,  0.1529948 ,  0.        ,  1.        ,  1.        ],\n",
      "      dtype=float32), array([ 1.        ,  1.        ,  1.        ,  1.        ,  0.        ,\n",
      "        0.        ,  0.        ,  0.        ,  0.        ,  0.        ,\n",
      "        0.        ,  0.        ,  0.        ,  0.        ,  0.        ,\n",
      "        0.        ,  0.        ,  0.        ,  0.        ,  0.        ,\n",
      "        0.        ,  0.        ,  0.        ,  0.        ,  0.        ,\n",
      "        0.        ,  0.        ,  0.        ,  0.        ,  0.        ,\n",
      "        0.        ,  0.        ,  0.        ,  0.        ,  1.        ,\n",
      "        0.10818365, -0.0764974 ,  0.0764974 ,  1.        ,  1.        ,\n",
      "        0.0764974 ,  0.        ,  0.0764974 ,  1.        ,  1.        ,\n",
      "        0.1529948 ,  0.        ,  0.1529948 ,  1.        ,  1.        ,\n",
      "        0.10818365,  0.0764974 ,  0.0764974 ,  1.        ,  1.        ],\n",
      "      dtype=float32), array([ 1.       ,  1.       ,  1.       ,  1.       ,  0.       ,\n",
      "        0.       ,  0.       ,  0.       ,  0.       ,  0.       ,\n",
      "        0.       ,  0.       ,  0.       ,  0.       ,  0.       ,\n",
      "        0.       ,  0.       ,  0.       ,  0.       ,  0.       ,\n",
      "        0.       ,  0.       ,  0.       ,  0.       ,  0.       ,\n",
      "        0.       ,  0.       ,  0.       ,  0.       ,  0.       ,\n",
      "        0.       ,  0.       ,  0.       ,  0.       ,  1.       ,\n",
      "        0.0764974, -0.0764974,  0.       ,  1.       ,  1.       ,\n",
      "        0.0764974,  0.       , -0.0764974,  1.       ,  1.       ,\n",
      "        0.0764974,  0.       ,  0.0764974,  1.       ,  1.       ,\n",
      "        0.0764974,  0.0764974,  0.       ,  1.       ,  1.       ],\n",
      "      dtype=float32), array([ 1.        ,  1.        ,  1.        ,  1.        ,  0.        ,\n",
      "        0.        ,  0.        ,  0.        ,  0.        ,  0.        ,\n",
      "        0.        ,  0.        ,  0.        ,  0.        ,  0.        ,\n",
      "        0.        ,  0.        ,  0.        ,  0.        ,  0.        ,\n",
      "        0.        ,  0.        ,  0.        ,  0.        ,  0.        ,\n",
      "        0.        ,  0.        ,  0.        ,  0.        ,  0.        ,\n",
      "        0.        ,  0.        ,  0.        ,  0.        ,  1.        ,\n",
      "        0.10818365, -0.0764974 , -0.0764974 ,  1.        ,  1.        ,\n",
      "        0.1529948 ,  0.        , -0.1529948 ,  1.        ,  1.        ,\n",
      "        0.0764974 ,  0.        , -0.0764974 ,  1.        ,  1.        ,\n",
      "        0.10818365,  0.0764974 , -0.0764974 ,  1.        ,  1.        ],\n",
      "      dtype=float32), array([ 1.        ,  1.        ,  1.        ,  1.        ,  0.        ,\n",
      "        0.        ,  0.        ,  0.        ,  0.        ,  0.        ,\n",
      "        0.        ,  0.        ,  0.        ,  0.        ,  0.        ,\n",
      "        0.        ,  0.        ,  0.        ,  0.        ,  0.        ,\n",
      "        0.        ,  0.        ,  0.        ,  0.        ,  0.        ,\n",
      "        0.        ,  0.        ,  0.        ,  0.        ,  0.        ,\n",
      "        0.        ,  0.        ,  0.        ,  0.        ,  1.        ,\n",
      "        0.1529948 , -0.1529948 ,  0.        ,  1.        ,  1.        ,\n",
      "        0.10818365, -0.0764974 , -0.0764974 ,  1.        ,  1.        ,\n",
      "        0.0764974 , -0.0764974 ,  0.        ,  1.        ,  1.        ,\n",
      "        0.10818365, -0.0764974 ,  0.0764974 ,  1.        ,  1.        ],\n",
      "      dtype=float32)]\n",
      "5\n"
     ]
    }
   ],
   "source": [
    "# Observations\n",
    "# List of all the individual observations\n",
    "print(env.get_obs())\n",
    "print(len(env.get_obs()))"
   ]
  },
  {
   "cell_type": "code",
   "execution_count": 6,
   "id": "3eed993a",
   "metadata": {},
   "outputs": [
    {
     "name": "stdout",
     "output_type": "stream",
     "text": [
      "[ 1.          1.          1.          1.          0.          0.\n",
      "  0.          0.          0.          0.          0.          0.\n",
      "  0.          0.          0.          0.          0.          0.\n",
      "  0.          0.          0.          0.          0.          0.\n",
      "  0.          0.          0.          0.          0.          0.\n",
      "  0.          0.          0.          0.          1.          0.10818365\n",
      "  0.0764974  -0.0764974   1.          1.          0.0764974   0.0764974\n",
      "  0.          1.          1.          0.10818365  0.0764974   0.0764974\n",
      "  1.          1.          0.1529948   0.1529948   0.          1.\n",
      "  1.        ]\n",
      "55\n"
     ]
    }
   ],
   "source": [
    "# Example agent 0\n",
    "print(env.get_obs_agent(0))\n",
    "print(len(env.get_obs_agent(0)))"
   ]
  },
  {
   "cell_type": "code",
   "execution_count": 7,
   "id": "c2f2b50c",
   "metadata": {},
   "outputs": [
    {
     "data": {
      "text/plain": [
       "[4, (6, 5), (4, 5), 1]"
      ]
     },
     "execution_count": 7,
     "metadata": {},
     "output_type": "execute_result"
    }
   ],
   "source": [
    "env.get_obs_component()"
   ]
  },
  {
   "cell_type": "code",
   "execution_count": null,
   "id": "6c971fe5",
   "metadata": {},
   "outputs": [],
   "source": [
    "def "
   ]
  }
 ],
 "metadata": {
  "kernelspec": {
   "display_name": "smac",
   "language": "python",
   "name": "python3"
  },
  "language_info": {
   "codemirror_mode": {
    "name": "ipython",
    "version": 3
   },
   "file_extension": ".py",
   "mimetype": "text/x-python",
   "name": "python",
   "nbconvert_exporter": "python",
   "pygments_lexer": "ipython3",
   "version": "3.10.16"
  }
 },
 "nbformat": 4,
 "nbformat_minor": 5
}
